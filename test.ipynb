{
 "cells": [
  {
   "cell_type": "code",
   "execution_count": 10,
   "metadata": {},
   "outputs": [],
   "source": [
    "import torch\n",
    "\n",
    "# Example tensors a (m, 2) and b (n, 2)\n",
    "a = torch.tensor([\n",
    "  [1, 2],\n",
    "  [3, 4],\n",
    "  [5, 6],\n",
    "  [7, 8],\n",
    "  [9, 10]\n",
    "])\n",
    "\n",
    "b = torch.tensor([\n",
    "  [3, 4],\n",
    "  [9, 10],\n",
    "  [7, 8],\n",
    "  [7, 8],\n",
    "])\n",
    "\n"
   ]
  },
  {
   "cell_type": "code",
   "execution_count": 19,
   "metadata": {},
   "outputs": [
    {
     "name": "stdout",
     "output_type": "stream",
     "text": [
      "(tensor([1, 3, 3, 4]), tensor([0, 2, 3, 1]))\n",
      "tensor([1, 3, 3, 4])\n"
     ]
    },
    {
     "data": {
      "text/plain": [
       "tensor([1, 4, 3, 3])"
      ]
     },
     "execution_count": 19,
     "metadata": {},
     "output_type": "execute_result"
    }
   ],
   "source": [
    "from torch_scatter import scatter\n",
    "\n",
    "indices = torch.where(torch.all(a[:, None] == b, dim=2))\n",
    "\n",
    "print(indices)\n",
    "print(indices[0])\n",
    "scatter(indices[0], indices[1], dim=0)"
   ]
  }
 ],
 "metadata": {
  "kernelspec": {
   "display_name": "lrgb",
   "language": "python",
   "name": "python3"
  },
  "language_info": {
   "codemirror_mode": {
    "name": "ipython",
    "version": 3
   },
   "file_extension": ".py",
   "mimetype": "text/x-python",
   "name": "python",
   "nbconvert_exporter": "python",
   "pygments_lexer": "ipython3",
   "version": "3.9.16"
  },
  "orig_nbformat": 4
 },
 "nbformat": 4,
 "nbformat_minor": 2
}
